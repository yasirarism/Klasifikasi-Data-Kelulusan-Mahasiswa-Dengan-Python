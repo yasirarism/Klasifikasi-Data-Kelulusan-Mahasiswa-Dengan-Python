{
  "nbformat": 4,
  "nbformat_minor": 0,
  "metadata": {
    "colab": {
      "name": "Algoritma Naive Bayes.ipynb",
      "provenance": [],
      "collapsed_sections": [],
      "authorship_tag": "ABX9TyPRgcmipiAwTI6djqPtisjr",
      "include_colab_link": true
    },
    "kernelspec": {
      "name": "python3",
      "display_name": "Python 3"
    },
    "language_info": {
      "name": "python"
    }
  },
  "cells": [
    {
      "cell_type": "markdown",
      "metadata": {
        "id": "view-in-github",
        "colab_type": "text"
      },
      "source": [
        "<a href=\"https://colab.research.google.com/github/yasirarism/Klasifikasi-Data-Kelulusan-Mahasiswa-Dengan-Python/blob/main/Algoritma_Naive_Bayes.ipynb\" target=\"_parent\"><img src=\"https://colab.research.google.com/assets/colab-badge.svg\" alt=\"Open In Colab\"/></a>"
      ]
    },
    {
      "cell_type": "markdown",
      "metadata": {
        "id": "tNRFnrDhMXIM"
      },
      "source": [
        "Klasifikasi Dengan Algoritma Naive Bayes  \n",
        "Nama: Yasir Aris Munandar  \n",
        "NIM : 180103163  \n",
        "Kelas : TI 18A3  \n",
        "\n",
        "Praktikum Algoritma Naive Bayes"
      ]
    },
    {
      "cell_type": "code",
      "metadata": {
        "colab": {
          "base_uri": "https://localhost:8080/",
          "height": 330
        },
        "id": "7wM4bZC2C83n",
        "outputId": "90b39e4c-9f45-4a2b-9748-e090fa854fd7"
      },
      "source": [
        "import pandas as pd\n",
        "import numpy as np\n",
        "\n",
        "data_training = pd.read_excel(\"https://github.com/yasirarism/Klasifikasi-Data-Kelulusan-Mahasiswa-Dengan-Python/raw/main/Data%20Kelulusan%20Mahasiswa_Data%20Training.xls\")\n",
        "data_training.head()\n",
        "\n",
        "#Jenis Kelamin = (Perempuan = 1, Laki-Laki = 2)\n",
        "#Status Mahasiswa = (Bekerja = 1, Mahasiswa = 2)\n",
        "#Status Nikah = (Belum Menikah = 1, Menikah = 2)\n",
        "#Status Kelulusan = (Tepat = 1, Terlambat = 2)"
      ],
      "execution_count": 19,
      "outputs": [
        {
          "output_type": "execute_result",
          "data": {
            "text/html": [
              "<div>\n",
              "<style scoped>\n",
              "    .dataframe tbody tr th:only-of-type {\n",
              "        vertical-align: middle;\n",
              "    }\n",
              "\n",
              "    .dataframe tbody tr th {\n",
              "        vertical-align: top;\n",
              "    }\n",
              "\n",
              "    .dataframe thead th {\n",
              "        text-align: right;\n",
              "    }\n",
              "</style>\n",
              "<table border=\"1\" class=\"dataframe\">\n",
              "  <thead>\n",
              "    <tr style=\"text-align: right;\">\n",
              "      <th></th>\n",
              "      <th>NAMA</th>\n",
              "      <th>JENIS_KELAMIN</th>\n",
              "      <th>STATUS_MAHASISWA</th>\n",
              "      <th>UMUR</th>\n",
              "      <th>STATUS_NIKAH</th>\n",
              "      <th>IPS_1</th>\n",
              "      <th>IPS_2</th>\n",
              "      <th>IPS_3</th>\n",
              "      <th>IPS_4</th>\n",
              "      <th>IPS_5</th>\n",
              "      <th>IPS_6</th>\n",
              "      <th>IPS_7</th>\n",
              "      <th>IPS_8</th>\n",
              "      <th>IPK</th>\n",
              "      <th>STATUS_KELULUSAN</th>\n",
              "    </tr>\n",
              "  </thead>\n",
              "  <tbody>\n",
              "    <tr>\n",
              "      <th>0</th>\n",
              "      <td>ANIK WIDAYANTI</td>\n",
              "      <td>1</td>\n",
              "      <td>1</td>\n",
              "      <td>28</td>\n",
              "      <td>1</td>\n",
              "      <td>2.76</td>\n",
              "      <td>2.80</td>\n",
              "      <td>3.20</td>\n",
              "      <td>3.17</td>\n",
              "      <td>2.98</td>\n",
              "      <td>3.00</td>\n",
              "      <td>3.03</td>\n",
              "      <td>0.0</td>\n",
              "      <td>3.07</td>\n",
              "      <td>2</td>\n",
              "    </tr>\n",
              "    <tr>\n",
              "      <th>1</th>\n",
              "      <td>DWI HESTYNA PRIHASTANTY</td>\n",
              "      <td>1</td>\n",
              "      <td>2</td>\n",
              "      <td>32</td>\n",
              "      <td>1</td>\n",
              "      <td>3.00</td>\n",
              "      <td>3.30</td>\n",
              "      <td>3.14</td>\n",
              "      <td>3.14</td>\n",
              "      <td>2.84</td>\n",
              "      <td>3.13</td>\n",
              "      <td>3.25</td>\n",
              "      <td>0.0</td>\n",
              "      <td>3.17</td>\n",
              "      <td>2</td>\n",
              "    </tr>\n",
              "    <tr>\n",
              "      <th>2</th>\n",
              "      <td>MURYA ARIEF BASUKI</td>\n",
              "      <td>1</td>\n",
              "      <td>1</td>\n",
              "      <td>29</td>\n",
              "      <td>1</td>\n",
              "      <td>3.50</td>\n",
              "      <td>3.30</td>\n",
              "      <td>3.70</td>\n",
              "      <td>3.29</td>\n",
              "      <td>3.53</td>\n",
              "      <td>3.72</td>\n",
              "      <td>3.73</td>\n",
              "      <td>0.0</td>\n",
              "      <td>3.54</td>\n",
              "      <td>2</td>\n",
              "    </tr>\n",
              "    <tr>\n",
              "      <th>3</th>\n",
              "      <td>NANIK SUSANTI</td>\n",
              "      <td>1</td>\n",
              "      <td>2</td>\n",
              "      <td>27</td>\n",
              "      <td>1</td>\n",
              "      <td>3.17</td>\n",
              "      <td>3.41</td>\n",
              "      <td>3.61</td>\n",
              "      <td>3.36</td>\n",
              "      <td>3.48</td>\n",
              "      <td>3.63</td>\n",
              "      <td>3.46</td>\n",
              "      <td>0.0</td>\n",
              "      <td>3.41</td>\n",
              "      <td>2</td>\n",
              "    </tr>\n",
              "    <tr>\n",
              "      <th>4</th>\n",
              "      <td>RIFKA ISTIQFARINA</td>\n",
              "      <td>1</td>\n",
              "      <td>1</td>\n",
              "      <td>29</td>\n",
              "      <td>1</td>\n",
              "      <td>2.90</td>\n",
              "      <td>2.89</td>\n",
              "      <td>3.30</td>\n",
              "      <td>2.85</td>\n",
              "      <td>2.98</td>\n",
              "      <td>3.00</td>\n",
              "      <td>3.08</td>\n",
              "      <td>0.0</td>\n",
              "      <td>3.09</td>\n",
              "      <td>2</td>\n",
              "    </tr>\n",
              "  </tbody>\n",
              "</table>\n",
              "</div>"
            ],
            "text/plain": [
              "                      NAMA  JENIS_KELAMIN  ...  IPK   STATUS_KELULUSAN\n",
              "0           ANIK WIDAYANTI              1  ...  3.07                 2\n",
              "1  DWI HESTYNA PRIHASTANTY              1  ...  3.17                 2\n",
              "2       MURYA ARIEF BASUKI              1  ...  3.54                 2\n",
              "3            NANIK SUSANTI              1  ...  3.41                 2\n",
              "4        RIFKA ISTIQFARINA              1  ...  3.09                 2\n",
              "\n",
              "[5 rows x 15 columns]"
            ]
          },
          "metadata": {},
          "execution_count": 19
        }
      ]
    },
    {
      "cell_type": "code",
      "metadata": {
        "colab": {
          "base_uri": "https://localhost:8080/"
        },
        "id": "9SAgTMFGD14O",
        "outputId": "227afa35-33d6-43ad-c1ee-292a35c39595"
      },
      "source": [
        "data_training.info()"
      ],
      "execution_count": 20,
      "outputs": [
        {
          "output_type": "stream",
          "name": "stdout",
          "text": [
            "<class 'pandas.core.frame.DataFrame'>\n",
            "RangeIndex: 379 entries, 0 to 378\n",
            "Data columns (total 15 columns):\n",
            " #   Column            Non-Null Count  Dtype  \n",
            "---  ------            --------------  -----  \n",
            " 0   NAMA              379 non-null    object \n",
            " 1   JENIS_KELAMIN     379 non-null    int64  \n",
            " 2   STATUS_MAHASISWA  379 non-null    int64  \n",
            " 3   UMUR              379 non-null    int64  \n",
            " 4   STATUS_NIKAH      379 non-null    int64  \n",
            " 5   IPS_1             379 non-null    float64\n",
            " 6   IPS_2             379 non-null    float64\n",
            " 7   IPS_3             379 non-null    float64\n",
            " 8   IPS_4             379 non-null    float64\n",
            " 9   IPS_5             379 non-null    float64\n",
            " 10  IPS_6             379 non-null    float64\n",
            " 11  IPS_7             379 non-null    float64\n",
            " 12  IPS_8             379 non-null    float64\n",
            " 13  IPK               379 non-null    float64\n",
            " 14  STATUS_KELULUSAN  379 non-null    int64  \n",
            "dtypes: float64(9), int64(5), object(1)\n",
            "memory usage: 44.5+ KB\n"
          ]
        }
      ]
    },
    {
      "cell_type": "code",
      "metadata": {
        "colab": {
          "base_uri": "https://localhost:8080/"
        },
        "id": "n9kA2PzcEZsY",
        "outputId": "9d8b015b-433b-460f-f342-cd6809bccc74"
      },
      "source": [
        "# Cek apakah ada deret yang kosong\n",
        "data_training.empty"
      ],
      "execution_count": 21,
      "outputs": [
        {
          "output_type": "execute_result",
          "data": {
            "text/plain": [
              "False"
            ]
          },
          "metadata": {},
          "execution_count": 21
        }
      ]
    },
    {
      "cell_type": "code",
      "metadata": {
        "colab": {
          "base_uri": "https://localhost:8080/"
        },
        "id": "iLaSpeJbEjj3",
        "outputId": "a11ad1d4-7d32-462d-a979-f0e567d83e20"
      },
      "source": [
        "data_training.size"
      ],
      "execution_count": 22,
      "outputs": [
        {
          "output_type": "execute_result",
          "data": {
            "text/plain": [
              "5685"
            ]
          },
          "metadata": {},
          "execution_count": 22
        }
      ]
    },
    {
      "cell_type": "code",
      "metadata": {
        "colab": {
          "base_uri": "https://localhost:8080/",
          "height": 226
        },
        "id": "HQXwwrS4EtV-",
        "outputId": "71c7512d-b71f-415f-c122-ae17d6a5b4d2"
      },
      "source": [
        "# Variabel independen\n",
        "x = data_training.drop(['STATUS_KELULUSAN','NAMA'], axis=1)\n",
        "x.head()"
      ],
      "execution_count": 23,
      "outputs": [
        {
          "output_type": "execute_result",
          "data": {
            "text/html": [
              "<div>\n",
              "<style scoped>\n",
              "    .dataframe tbody tr th:only-of-type {\n",
              "        vertical-align: middle;\n",
              "    }\n",
              "\n",
              "    .dataframe tbody tr th {\n",
              "        vertical-align: top;\n",
              "    }\n",
              "\n",
              "    .dataframe thead th {\n",
              "        text-align: right;\n",
              "    }\n",
              "</style>\n",
              "<table border=\"1\" class=\"dataframe\">\n",
              "  <thead>\n",
              "    <tr style=\"text-align: right;\">\n",
              "      <th></th>\n",
              "      <th>JENIS_KELAMIN</th>\n",
              "      <th>STATUS_MAHASISWA</th>\n",
              "      <th>UMUR</th>\n",
              "      <th>STATUS_NIKAH</th>\n",
              "      <th>IPS_1</th>\n",
              "      <th>IPS_2</th>\n",
              "      <th>IPS_3</th>\n",
              "      <th>IPS_4</th>\n",
              "      <th>IPS_5</th>\n",
              "      <th>IPS_6</th>\n",
              "      <th>IPS_7</th>\n",
              "      <th>IPS_8</th>\n",
              "      <th>IPK</th>\n",
              "    </tr>\n",
              "  </thead>\n",
              "  <tbody>\n",
              "    <tr>\n",
              "      <th>0</th>\n",
              "      <td>1</td>\n",
              "      <td>1</td>\n",
              "      <td>28</td>\n",
              "      <td>1</td>\n",
              "      <td>2.76</td>\n",
              "      <td>2.80</td>\n",
              "      <td>3.20</td>\n",
              "      <td>3.17</td>\n",
              "      <td>2.98</td>\n",
              "      <td>3.00</td>\n",
              "      <td>3.03</td>\n",
              "      <td>0.0</td>\n",
              "      <td>3.07</td>\n",
              "    </tr>\n",
              "    <tr>\n",
              "      <th>1</th>\n",
              "      <td>1</td>\n",
              "      <td>2</td>\n",
              "      <td>32</td>\n",
              "      <td>1</td>\n",
              "      <td>3.00</td>\n",
              "      <td>3.30</td>\n",
              "      <td>3.14</td>\n",
              "      <td>3.14</td>\n",
              "      <td>2.84</td>\n",
              "      <td>3.13</td>\n",
              "      <td>3.25</td>\n",
              "      <td>0.0</td>\n",
              "      <td>3.17</td>\n",
              "    </tr>\n",
              "    <tr>\n",
              "      <th>2</th>\n",
              "      <td>1</td>\n",
              "      <td>1</td>\n",
              "      <td>29</td>\n",
              "      <td>1</td>\n",
              "      <td>3.50</td>\n",
              "      <td>3.30</td>\n",
              "      <td>3.70</td>\n",
              "      <td>3.29</td>\n",
              "      <td>3.53</td>\n",
              "      <td>3.72</td>\n",
              "      <td>3.73</td>\n",
              "      <td>0.0</td>\n",
              "      <td>3.54</td>\n",
              "    </tr>\n",
              "    <tr>\n",
              "      <th>3</th>\n",
              "      <td>1</td>\n",
              "      <td>2</td>\n",
              "      <td>27</td>\n",
              "      <td>1</td>\n",
              "      <td>3.17</td>\n",
              "      <td>3.41</td>\n",
              "      <td>3.61</td>\n",
              "      <td>3.36</td>\n",
              "      <td>3.48</td>\n",
              "      <td>3.63</td>\n",
              "      <td>3.46</td>\n",
              "      <td>0.0</td>\n",
              "      <td>3.41</td>\n",
              "    </tr>\n",
              "    <tr>\n",
              "      <th>4</th>\n",
              "      <td>1</td>\n",
              "      <td>1</td>\n",
              "      <td>29</td>\n",
              "      <td>1</td>\n",
              "      <td>2.90</td>\n",
              "      <td>2.89</td>\n",
              "      <td>3.30</td>\n",
              "      <td>2.85</td>\n",
              "      <td>2.98</td>\n",
              "      <td>3.00</td>\n",
              "      <td>3.08</td>\n",
              "      <td>0.0</td>\n",
              "      <td>3.09</td>\n",
              "    </tr>\n",
              "  </tbody>\n",
              "</table>\n",
              "</div>"
            ],
            "text/plain": [
              "   JENIS_KELAMIN  STATUS_MAHASISWA  UMUR  ...  IPS_7  IPS_8  IPK \n",
              "0              1                 1    28  ...   3.03    0.0  3.07\n",
              "1              1                 2    32  ...   3.25    0.0  3.17\n",
              "2              1                 1    29  ...   3.73    0.0  3.54\n",
              "3              1                 2    27  ...   3.46    0.0  3.41\n",
              "4              1                 1    29  ...   3.08    0.0  3.09\n",
              "\n",
              "[5 rows x 13 columns]"
            ]
          },
          "metadata": {},
          "execution_count": 23
        }
      ]
    },
    {
      "cell_type": "code",
      "metadata": {
        "colab": {
          "base_uri": "https://localhost:8080/"
        },
        "id": "N0bimDkgE-Dw",
        "outputId": "e27d72b0-e25c-4fce-8e47-40bab59ab830"
      },
      "source": [
        "# Variabel Dependen\n",
        "y = data_training['STATUS_KELULUSAN']\n",
        "y.head(11)"
      ],
      "execution_count": 24,
      "outputs": [
        {
          "output_type": "execute_result",
          "data": {
            "text/plain": [
              "0     2\n",
              "1     2\n",
              "2     2\n",
              "3     2\n",
              "4     2\n",
              "5     2\n",
              "6     1\n",
              "7     1\n",
              "8     2\n",
              "9     2\n",
              "10    2\n",
              "Name: STATUS_KELULUSAN, dtype: int64"
            ]
          },
          "metadata": {},
          "execution_count": 24
        }
      ]
    },
    {
      "cell_type": "code",
      "metadata": {
        "id": "SX171JucFT8U"
      },
      "source": [
        "# Import fungsi train_test_split\n",
        "from sklearn.model_selection import train_test_split\n",
        "\n",
        "x_train, x_test, y_train, y_test = train_test_split(x, y, test_size=0.05)"
      ],
      "execution_count": 25,
      "outputs": []
    },
    {
      "cell_type": "code",
      "metadata": {
        "colab": {
          "base_uri": "https://localhost:8080/"
        },
        "id": "7S1vPb3EF2sw",
        "outputId": "1a317e2e-262f-4fe7-d84c-2b38c8cc4d8a"
      },
      "source": [
        "# Import Gaussian Naive Bayes Model\n",
        "from sklearn.naive_bayes import GaussianNB\n",
        "\n",
        "# Mengaktifkan fungsi klasifikasi Naive Bayes\n",
        "modelnb = GaussianNB()\n",
        "\n",
        "# Memasukkan data training pada naive bayes\n",
        "nbtrain = modelnb.fit(x_train, y_train)\n",
        "nbtrain.class_count_"
      ],
      "execution_count": 26,
      "outputs": [
        {
          "output_type": "execute_result",
          "data": {
            "text/plain": [
              "array([204., 156.])"
            ]
          },
          "metadata": {},
          "execution_count": 26
        }
      ]
    },
    {
      "cell_type": "code",
      "metadata": {
        "colab": {
          "base_uri": "https://localhost:8080/"
        },
        "id": "AuJAP8ceG1Yr",
        "outputId": "5a589c75-f3f5-4348-a96e-09738ed643ec"
      },
      "source": [
        "# Menentukan hasil prediksi dari x_test\n",
        "y_pred = nbtrain.predict(x_test)\n",
        "y_pred"
      ],
      "execution_count": 27,
      "outputs": [
        {
          "output_type": "execute_result",
          "data": {
            "text/plain": [
              "array([1, 1, 1, 1, 1, 2, 2, 1, 1, 2, 2, 1, 1, 1, 1, 1, 2, 1, 1])"
            ]
          },
          "metadata": {},
          "execution_count": 27
        }
      ]
    },
    {
      "cell_type": "code",
      "metadata": {
        "colab": {
          "base_uri": "https://localhost:8080/"
        },
        "id": "mqFOyTWhp4DW",
        "outputId": "9ead387d-1946-416b-c648-c51bef11a9b3"
      },
      "source": [
        "np.array(y_test)"
      ],
      "execution_count": 28,
      "outputs": [
        {
          "output_type": "execute_result",
          "data": {
            "text/plain": [
              "array([1, 1, 1, 1, 2, 2, 2, 1, 2, 2, 2, 1, 1, 1, 1, 1, 2, 1, 1])"
            ]
          },
          "metadata": {},
          "execution_count": 28
        }
      ]
    },
    {
      "cell_type": "code",
      "metadata": {
        "colab": {
          "base_uri": "https://localhost:8080/"
        },
        "id": "PQIXf7XgHHxi",
        "outputId": "fff3526e-c9cd-47a2-ab18-8956c56ea392"
      },
      "source": [
        "# Menentukan probabilitas hasil prediksi\n",
        "nbtrain.predict_proba(x_test)"
      ],
      "execution_count": 29,
      "outputs": [
        {
          "output_type": "execute_result",
          "data": {
            "text/plain": [
              "array([[9.98517282e-01, 1.48271798e-03],\n",
              "       [9.99128516e-01, 8.71484409e-04],\n",
              "       [9.99793683e-01, 2.06317039e-04],\n",
              "       [9.97824444e-01, 2.17555552e-03],\n",
              "       [9.69708727e-01, 3.02912730e-02],\n",
              "       [7.71779004e-07, 9.99999228e-01],\n",
              "       [3.54570948e-44, 1.00000000e+00],\n",
              "       [7.02189745e-01, 2.97810255e-01],\n",
              "       [9.69248275e-01, 3.07517247e-02],\n",
              "       [1.32443484e-07, 9.99999868e-01],\n",
              "       [2.41147966e-10, 1.00000000e+00],\n",
              "       [9.99340880e-01, 6.59120022e-04],\n",
              "       [9.99999492e-01, 5.08139869e-07],\n",
              "       [9.95305278e-01, 4.69472217e-03],\n",
              "       [9.99577926e-01, 4.22074301e-04],\n",
              "       [9.96595895e-01, 3.40410536e-03],\n",
              "       [5.91806709e-09, 9.99999994e-01],\n",
              "       [9.99731568e-01, 2.68431975e-04],\n",
              "       [9.99556574e-01, 4.43425558e-04]])"
            ]
          },
          "metadata": {},
          "execution_count": 29
        }
      ]
    },
    {
      "cell_type": "code",
      "metadata": {
        "colab": {
          "base_uri": "https://localhost:8080/"
        },
        "id": "8fB8QNkZHVtb",
        "outputId": "d5e86ece-e5a3-47f4-f5b1-68a09db5d851"
      },
      "source": [
        "# Import confusion matrix model\n",
        "from sklearn.metrics import confusion_matrix\n",
        "confusion_matrix(y_test, y_pred)"
      ],
      "execution_count": 30,
      "outputs": [
        {
          "output_type": "execute_result",
          "data": {
            "text/plain": [
              "array([[12,  0],\n",
              "       [ 2,  5]])"
            ]
          },
          "metadata": {},
          "execution_count": 30
        }
      ]
    },
    {
      "cell_type": "code",
      "metadata": {
        "id": "SnAvfRiNHznA",
        "colab": {
          "base_uri": "https://localhost:8080/",
          "height": 143
        },
        "outputId": "9dc37ab9-eec3-4e6c-fc77-61578c5716f0"
      },
      "source": [
        "# Merapikan hasil confusion matrix\n",
        "y_actual1 = pd.Series([1, 1, 1, 2, 1, 2, 1, 1, 2, 2, 2, 1, 1, 2, 1, 1, 2, 1, 1], name=\"actual\")\n",
        "y_pred1 = pd.Series([1, 1, 1, 2, 1, 2, 1, 1, 2, 2, 2, 1, 1, 2, 1, 2, 2, 1, 2], name=\"prediction\")\n",
        "df_confusion = pd.crosstab(y_actual1, y_pred1)\n",
        "df_confusion"
      ],
      "execution_count": 31,
      "outputs": [
        {
          "output_type": "execute_result",
          "data": {
            "text/html": [
              "<div>\n",
              "<style scoped>\n",
              "    .dataframe tbody tr th:only-of-type {\n",
              "        vertical-align: middle;\n",
              "    }\n",
              "\n",
              "    .dataframe tbody tr th {\n",
              "        vertical-align: top;\n",
              "    }\n",
              "\n",
              "    .dataframe thead th {\n",
              "        text-align: right;\n",
              "    }\n",
              "</style>\n",
              "<table border=\"1\" class=\"dataframe\">\n",
              "  <thead>\n",
              "    <tr style=\"text-align: right;\">\n",
              "      <th>prediction</th>\n",
              "      <th>1</th>\n",
              "      <th>2</th>\n",
              "    </tr>\n",
              "    <tr>\n",
              "      <th>actual</th>\n",
              "      <th></th>\n",
              "      <th></th>\n",
              "    </tr>\n",
              "  </thead>\n",
              "  <tbody>\n",
              "    <tr>\n",
              "      <th>1</th>\n",
              "      <td>10</td>\n",
              "      <td>2</td>\n",
              "    </tr>\n",
              "    <tr>\n",
              "      <th>2</th>\n",
              "      <td>0</td>\n",
              "      <td>7</td>\n",
              "    </tr>\n",
              "  </tbody>\n",
              "</table>\n",
              "</div>"
            ],
            "text/plain": [
              "prediction   1  2\n",
              "actual           \n",
              "1           10  2\n",
              "2            0  7"
            ]
          },
          "metadata": {},
          "execution_count": 31
        }
      ]
    },
    {
      "cell_type": "code",
      "metadata": {
        "colab": {
          "base_uri": "https://localhost:8080/"
        },
        "id": "M8Ucdh-eNetl",
        "outputId": "b3e74bcf-d89a-4029-ff8c-707382b394da"
      },
      "source": [
        "# Menghitung nilai akurasi klasifikasi naive bayes\n",
        "from sklearn.metrics import classification_report\n",
        "print(classification_report(y_test, y_pred))"
      ],
      "execution_count": 32,
      "outputs": [
        {
          "output_type": "stream",
          "name": "stdout",
          "text": [
            "              precision    recall  f1-score   support\n",
            "\n",
            "           1       0.86      1.00      0.92        12\n",
            "           2       1.00      0.71      0.83         7\n",
            "\n",
            "    accuracy                           0.89        19\n",
            "   macro avg       0.93      0.86      0.88        19\n",
            "weighted avg       0.91      0.89      0.89        19\n",
            "\n"
          ]
        }
      ]
    }
  ]
}