{
  "nbformat": 4,
  "nbformat_minor": 0,
  "metadata": {
    "colab": {
      "name": "Algoritma Naive Bayes.ipynb",
      "provenance": [],
      "collapsed_sections": [],
      "authorship_tag": "ABX9TyNjucUb4qWqElicfUsQb2ay",
      "include_colab_link": true
    },
    "kernelspec": {
      "name": "python3",
      "display_name": "Python 3"
    },
    "language_info": {
      "name": "python"
    }
  },
  "cells": [
    {
      "cell_type": "markdown",
      "metadata": {
        "id": "view-in-github",
        "colab_type": "text"
      },
      "source": [
        "<a href=\"https://colab.research.google.com/github/yasirarism/Klasifikasi-Data-Kelulusan-Mahasiswa-Dengan-Python/blob/main/Algoritma_Naive_Bayes.ipynb\" target=\"_parent\"><img src=\"https://colab.research.google.com/assets/colab-badge.svg\" alt=\"Open In Colab\"/></a>"
      ]
    },
    {
      "cell_type": "markdown",
      "metadata": {
        "id": "tNRFnrDhMXIM"
      },
      "source": [
        "Klasifikasi Dengan Algoritma Naive Bayes  \n",
        "Nama: Yasir Aris Munandar  \n",
        "NIM : 180103163  \n",
        "Kelas : TI 18A3  \n",
        "\n",
        "Praktikum Algoritma Naive Bayes"
      ]
    },
    {
      "cell_type": "code",
      "metadata": {
        "colab": {
          "base_uri": "https://localhost:8080/",
          "height": 330
        },
        "id": "7wM4bZC2C83n",
        "outputId": "fb5f90d0-f0a3-4d1e-bb04-5e9cffd2e084"
      },
      "source": [
        "import pandas as pd\n",
        "import numpy as np\n",
        "\n",
        "data_training = pd.read_excel(\"https://github.com/yasirarism/Klasifikasi-Data-Kelulusan-Mahasiswa-Dengan-Python/raw/main/Data%20Kelulusan%20Mahasiswa_Data%20Training.xls\")\n",
        "data_training.head()\n",
        "\n",
        "#Jenis Kelamin = (Perempuan = 1, Laki-Laki = 2)\n",
        "#Status Mahasiswa = (Bekerja = 1, Mahasiswa = 2)\n",
        "#Status Nikah = (Belum Menikah = 1, Menikah = 2)\n",
        "#Status Kelulusan = (Tepat = 1, Terlambat = 2)"
      ],
      "execution_count": 33,
      "outputs": [
        {
          "output_type": "execute_result",
          "data": {
            "text/html": [
              "<div>\n",
              "<style scoped>\n",
              "    .dataframe tbody tr th:only-of-type {\n",
              "        vertical-align: middle;\n",
              "    }\n",
              "\n",
              "    .dataframe tbody tr th {\n",
              "        vertical-align: top;\n",
              "    }\n",
              "\n",
              "    .dataframe thead th {\n",
              "        text-align: right;\n",
              "    }\n",
              "</style>\n",
              "<table border=\"1\" class=\"dataframe\">\n",
              "  <thead>\n",
              "    <tr style=\"text-align: right;\">\n",
              "      <th></th>\n",
              "      <th>NAMA</th>\n",
              "      <th>JENIS_KELAMIN</th>\n",
              "      <th>STATUS_MAHASISWA</th>\n",
              "      <th>UMUR</th>\n",
              "      <th>STATUS_NIKAH</th>\n",
              "      <th>IPS_1</th>\n",
              "      <th>IPS_2</th>\n",
              "      <th>IPS_3</th>\n",
              "      <th>IPS_4</th>\n",
              "      <th>IPS_5</th>\n",
              "      <th>IPS_6</th>\n",
              "      <th>IPS_7</th>\n",
              "      <th>IPS_8</th>\n",
              "      <th>IPK</th>\n",
              "      <th>STATUS_KELULUSAN</th>\n",
              "    </tr>\n",
              "  </thead>\n",
              "  <tbody>\n",
              "    <tr>\n",
              "      <th>0</th>\n",
              "      <td>ANIK WIDAYANTI</td>\n",
              "      <td>1</td>\n",
              "      <td>1</td>\n",
              "      <td>28</td>\n",
              "      <td>1</td>\n",
              "      <td>2.76</td>\n",
              "      <td>2.80</td>\n",
              "      <td>3.20</td>\n",
              "      <td>3.17</td>\n",
              "      <td>2.98</td>\n",
              "      <td>3.00</td>\n",
              "      <td>3.03</td>\n",
              "      <td>0.0</td>\n",
              "      <td>3.07</td>\n",
              "      <td>2</td>\n",
              "    </tr>\n",
              "    <tr>\n",
              "      <th>1</th>\n",
              "      <td>DWI HESTYNA PRIHASTANTY</td>\n",
              "      <td>1</td>\n",
              "      <td>2</td>\n",
              "      <td>32</td>\n",
              "      <td>1</td>\n",
              "      <td>3.00</td>\n",
              "      <td>3.30</td>\n",
              "      <td>3.14</td>\n",
              "      <td>3.14</td>\n",
              "      <td>2.84</td>\n",
              "      <td>3.13</td>\n",
              "      <td>3.25</td>\n",
              "      <td>0.0</td>\n",
              "      <td>3.17</td>\n",
              "      <td>2</td>\n",
              "    </tr>\n",
              "    <tr>\n",
              "      <th>2</th>\n",
              "      <td>MURYA ARIEF BASUKI</td>\n",
              "      <td>1</td>\n",
              "      <td>1</td>\n",
              "      <td>29</td>\n",
              "      <td>1</td>\n",
              "      <td>3.50</td>\n",
              "      <td>3.30</td>\n",
              "      <td>3.70</td>\n",
              "      <td>3.29</td>\n",
              "      <td>3.53</td>\n",
              "      <td>3.72</td>\n",
              "      <td>3.73</td>\n",
              "      <td>0.0</td>\n",
              "      <td>3.54</td>\n",
              "      <td>2</td>\n",
              "    </tr>\n",
              "    <tr>\n",
              "      <th>3</th>\n",
              "      <td>NANIK SUSANTI</td>\n",
              "      <td>1</td>\n",
              "      <td>2</td>\n",
              "      <td>27</td>\n",
              "      <td>1</td>\n",
              "      <td>3.17</td>\n",
              "      <td>3.41</td>\n",
              "      <td>3.61</td>\n",
              "      <td>3.36</td>\n",
              "      <td>3.48</td>\n",
              "      <td>3.63</td>\n",
              "      <td>3.46</td>\n",
              "      <td>0.0</td>\n",
              "      <td>3.41</td>\n",
              "      <td>2</td>\n",
              "    </tr>\n",
              "    <tr>\n",
              "      <th>4</th>\n",
              "      <td>RIFKA ISTIQFARINA</td>\n",
              "      <td>1</td>\n",
              "      <td>1</td>\n",
              "      <td>29</td>\n",
              "      <td>1</td>\n",
              "      <td>2.90</td>\n",
              "      <td>2.89</td>\n",
              "      <td>3.30</td>\n",
              "      <td>2.85</td>\n",
              "      <td>2.98</td>\n",
              "      <td>3.00</td>\n",
              "      <td>3.08</td>\n",
              "      <td>0.0</td>\n",
              "      <td>3.09</td>\n",
              "      <td>2</td>\n",
              "    </tr>\n",
              "  </tbody>\n",
              "</table>\n",
              "</div>"
            ],
            "text/plain": [
              "                      NAMA  JENIS_KELAMIN  ...  IPK   STATUS_KELULUSAN\n",
              "0           ANIK WIDAYANTI              1  ...  3.07                 2\n",
              "1  DWI HESTYNA PRIHASTANTY              1  ...  3.17                 2\n",
              "2       MURYA ARIEF BASUKI              1  ...  3.54                 2\n",
              "3            NANIK SUSANTI              1  ...  3.41                 2\n",
              "4        RIFKA ISTIQFARINA              1  ...  3.09                 2\n",
              "\n",
              "[5 rows x 15 columns]"
            ]
          },
          "metadata": {},
          "execution_count": 33
        }
      ]
    },
    {
      "cell_type": "code",
      "metadata": {
        "colab": {
          "base_uri": "https://localhost:8080/"
        },
        "id": "9SAgTMFGD14O",
        "outputId": "53003b04-7e1f-4c55-8aa9-067a6cbf9bd6"
      },
      "source": [
        "data_training.info()"
      ],
      "execution_count": 34,
      "outputs": [
        {
          "output_type": "stream",
          "name": "stdout",
          "text": [
            "<class 'pandas.core.frame.DataFrame'>\n",
            "RangeIndex: 379 entries, 0 to 378\n",
            "Data columns (total 15 columns):\n",
            " #   Column            Non-Null Count  Dtype  \n",
            "---  ------            --------------  -----  \n",
            " 0   NAMA              379 non-null    object \n",
            " 1   JENIS_KELAMIN     379 non-null    int64  \n",
            " 2   STATUS_MAHASISWA  379 non-null    int64  \n",
            " 3   UMUR              379 non-null    int64  \n",
            " 4   STATUS_NIKAH      379 non-null    int64  \n",
            " 5   IPS_1             379 non-null    float64\n",
            " 6   IPS_2             379 non-null    float64\n",
            " 7   IPS_3             379 non-null    float64\n",
            " 8   IPS_4             379 non-null    float64\n",
            " 9   IPS_5             379 non-null    float64\n",
            " 10  IPS_6             379 non-null    float64\n",
            " 11  IPS_7             379 non-null    float64\n",
            " 12  IPS_8             379 non-null    float64\n",
            " 13  IPK               379 non-null    float64\n",
            " 14  STATUS_KELULUSAN  379 non-null    int64  \n",
            "dtypes: float64(9), int64(5), object(1)\n",
            "memory usage: 44.5+ KB\n"
          ]
        }
      ]
    },
    {
      "cell_type": "code",
      "metadata": {
        "colab": {
          "base_uri": "https://localhost:8080/"
        },
        "id": "n9kA2PzcEZsY",
        "outputId": "2eee6f0c-cc63-4582-8bde-18f1b1bc6963"
      },
      "source": [
        "# Cek apakah ada deret yang kosong\n",
        "data_training.empty"
      ],
      "execution_count": 35,
      "outputs": [
        {
          "output_type": "execute_result",
          "data": {
            "text/plain": [
              "False"
            ]
          },
          "metadata": {},
          "execution_count": 35
        }
      ]
    },
    {
      "cell_type": "code",
      "metadata": {
        "colab": {
          "base_uri": "https://localhost:8080/"
        },
        "id": "iLaSpeJbEjj3",
        "outputId": "2d379901-d835-40ff-9677-7db3123c8d6b"
      },
      "source": [
        "data_training.size"
      ],
      "execution_count": 36,
      "outputs": [
        {
          "output_type": "execute_result",
          "data": {
            "text/plain": [
              "5685"
            ]
          },
          "metadata": {},
          "execution_count": 36
        }
      ]
    },
    {
      "cell_type": "code",
      "metadata": {
        "colab": {
          "base_uri": "https://localhost:8080/",
          "height": 226
        },
        "id": "HQXwwrS4EtV-",
        "outputId": "8e39bb35-1058-4a0e-e83f-4d97ec717757"
      },
      "source": [
        "# Variabel independen\n",
        "x = data_training.drop(['STATUS_KELULUSAN','NAMA'], axis=1)\n",
        "x.head()"
      ],
      "execution_count": 37,
      "outputs": [
        {
          "output_type": "execute_result",
          "data": {
            "text/html": [
              "<div>\n",
              "<style scoped>\n",
              "    .dataframe tbody tr th:only-of-type {\n",
              "        vertical-align: middle;\n",
              "    }\n",
              "\n",
              "    .dataframe tbody tr th {\n",
              "        vertical-align: top;\n",
              "    }\n",
              "\n",
              "    .dataframe thead th {\n",
              "        text-align: right;\n",
              "    }\n",
              "</style>\n",
              "<table border=\"1\" class=\"dataframe\">\n",
              "  <thead>\n",
              "    <tr style=\"text-align: right;\">\n",
              "      <th></th>\n",
              "      <th>JENIS_KELAMIN</th>\n",
              "      <th>STATUS_MAHASISWA</th>\n",
              "      <th>UMUR</th>\n",
              "      <th>STATUS_NIKAH</th>\n",
              "      <th>IPS_1</th>\n",
              "      <th>IPS_2</th>\n",
              "      <th>IPS_3</th>\n",
              "      <th>IPS_4</th>\n",
              "      <th>IPS_5</th>\n",
              "      <th>IPS_6</th>\n",
              "      <th>IPS_7</th>\n",
              "      <th>IPS_8</th>\n",
              "      <th>IPK</th>\n",
              "    </tr>\n",
              "  </thead>\n",
              "  <tbody>\n",
              "    <tr>\n",
              "      <th>0</th>\n",
              "      <td>1</td>\n",
              "      <td>1</td>\n",
              "      <td>28</td>\n",
              "      <td>1</td>\n",
              "      <td>2.76</td>\n",
              "      <td>2.80</td>\n",
              "      <td>3.20</td>\n",
              "      <td>3.17</td>\n",
              "      <td>2.98</td>\n",
              "      <td>3.00</td>\n",
              "      <td>3.03</td>\n",
              "      <td>0.0</td>\n",
              "      <td>3.07</td>\n",
              "    </tr>\n",
              "    <tr>\n",
              "      <th>1</th>\n",
              "      <td>1</td>\n",
              "      <td>2</td>\n",
              "      <td>32</td>\n",
              "      <td>1</td>\n",
              "      <td>3.00</td>\n",
              "      <td>3.30</td>\n",
              "      <td>3.14</td>\n",
              "      <td>3.14</td>\n",
              "      <td>2.84</td>\n",
              "      <td>3.13</td>\n",
              "      <td>3.25</td>\n",
              "      <td>0.0</td>\n",
              "      <td>3.17</td>\n",
              "    </tr>\n",
              "    <tr>\n",
              "      <th>2</th>\n",
              "      <td>1</td>\n",
              "      <td>1</td>\n",
              "      <td>29</td>\n",
              "      <td>1</td>\n",
              "      <td>3.50</td>\n",
              "      <td>3.30</td>\n",
              "      <td>3.70</td>\n",
              "      <td>3.29</td>\n",
              "      <td>3.53</td>\n",
              "      <td>3.72</td>\n",
              "      <td>3.73</td>\n",
              "      <td>0.0</td>\n",
              "      <td>3.54</td>\n",
              "    </tr>\n",
              "    <tr>\n",
              "      <th>3</th>\n",
              "      <td>1</td>\n",
              "      <td>2</td>\n",
              "      <td>27</td>\n",
              "      <td>1</td>\n",
              "      <td>3.17</td>\n",
              "      <td>3.41</td>\n",
              "      <td>3.61</td>\n",
              "      <td>3.36</td>\n",
              "      <td>3.48</td>\n",
              "      <td>3.63</td>\n",
              "      <td>3.46</td>\n",
              "      <td>0.0</td>\n",
              "      <td>3.41</td>\n",
              "    </tr>\n",
              "    <tr>\n",
              "      <th>4</th>\n",
              "      <td>1</td>\n",
              "      <td>1</td>\n",
              "      <td>29</td>\n",
              "      <td>1</td>\n",
              "      <td>2.90</td>\n",
              "      <td>2.89</td>\n",
              "      <td>3.30</td>\n",
              "      <td>2.85</td>\n",
              "      <td>2.98</td>\n",
              "      <td>3.00</td>\n",
              "      <td>3.08</td>\n",
              "      <td>0.0</td>\n",
              "      <td>3.09</td>\n",
              "    </tr>\n",
              "  </tbody>\n",
              "</table>\n",
              "</div>"
            ],
            "text/plain": [
              "   JENIS_KELAMIN  STATUS_MAHASISWA  UMUR  ...  IPS_7  IPS_8  IPK \n",
              "0              1                 1    28  ...   3.03    0.0  3.07\n",
              "1              1                 2    32  ...   3.25    0.0  3.17\n",
              "2              1                 1    29  ...   3.73    0.0  3.54\n",
              "3              1                 2    27  ...   3.46    0.0  3.41\n",
              "4              1                 1    29  ...   3.08    0.0  3.09\n",
              "\n",
              "[5 rows x 13 columns]"
            ]
          },
          "metadata": {},
          "execution_count": 37
        }
      ]
    },
    {
      "cell_type": "code",
      "metadata": {
        "colab": {
          "base_uri": "https://localhost:8080/"
        },
        "id": "N0bimDkgE-Dw",
        "outputId": "2295856e-1a64-488d-c105-0e87566cc1b6"
      },
      "source": [
        "# Variabel Dependen\n",
        "y = data_training['STATUS_KELULUSAN']\n",
        "y.head(11)"
      ],
      "execution_count": 38,
      "outputs": [
        {
          "output_type": "execute_result",
          "data": {
            "text/plain": [
              "0     2\n",
              "1     2\n",
              "2     2\n",
              "3     2\n",
              "4     2\n",
              "5     2\n",
              "6     1\n",
              "7     1\n",
              "8     2\n",
              "9     2\n",
              "10    2\n",
              "Name: STATUS_KELULUSAN, dtype: int64"
            ]
          },
          "metadata": {},
          "execution_count": 38
        }
      ]
    },
    {
      "cell_type": "code",
      "metadata": {
        "id": "SX171JucFT8U"
      },
      "source": [
        "# Import fungsi train_test_split\n",
        "from sklearn.model_selection import train_test_split\n",
        "\n",
        "x_train, x_test, y_train, y_test = train_test_split(x, y, test_size=0.05)"
      ],
      "execution_count": 39,
      "outputs": []
    },
    {
      "cell_type": "code",
      "metadata": {
        "colab": {
          "base_uri": "https://localhost:8080/"
        },
        "id": "7S1vPb3EF2sw",
        "outputId": "90bb98c9-26ed-4db8-d797-8cdfc64c5ca5"
      },
      "source": [
        "# Import Gaussian Naive Bayes Model\n",
        "from sklearn.naive_bayes import GaussianNB\n",
        "\n",
        "# Mengaktifkan fungsi klasifikasi Naive Bayes\n",
        "modelnb = GaussianNB()\n",
        "\n",
        "# Memasukkan data training pada naive bayes\n",
        "nbtrain = modelnb.fit(x_train, y_train)\n",
        "nbtrain.class_count_"
      ],
      "execution_count": 40,
      "outputs": [
        {
          "output_type": "execute_result",
          "data": {
            "text/plain": [
              "array([206., 154.])"
            ]
          },
          "metadata": {},
          "execution_count": 40
        }
      ]
    },
    {
      "cell_type": "code",
      "metadata": {
        "colab": {
          "base_uri": "https://localhost:8080/"
        },
        "id": "AuJAP8ceG1Yr",
        "outputId": "760fa261-d738-40ad-88a2-8e2a5bfcc689"
      },
      "source": [
        "# Menentukan hasil prediksi dari x_test\n",
        "y_pred = nbtrain.predict(x_test)\n",
        "y_pred"
      ],
      "execution_count": 48,
      "outputs": [
        {
          "output_type": "execute_result",
          "data": {
            "text/plain": [
              "array([1, 1, 2, 2, 2, 1, 1, 2, 1, 1, 1, 2, 2, 1, 1, 1, 1, 1, 2])"
            ]
          },
          "metadata": {},
          "execution_count": 48
        }
      ]
    },
    {
      "cell_type": "code",
      "metadata": {
        "colab": {
          "base_uri": "https://localhost:8080/"
        },
        "id": "mqFOyTWhp4DW",
        "outputId": "dd131208-5dc2-4502-d4b3-cf5508a3c5b5"
      },
      "source": [
        "np.array(y_test)"
      ],
      "execution_count": 53,
      "outputs": [
        {
          "output_type": "execute_result",
          "data": {
            "text/plain": [
              "array([1, 1, 2, 2, 2, 1, 1, 2, 1, 1, 2, 2, 2, 1, 2, 1, 1, 1, 2])"
            ]
          },
          "metadata": {},
          "execution_count": 53
        }
      ]
    },
    {
      "cell_type": "code",
      "metadata": {
        "colab": {
          "base_uri": "https://localhost:8080/"
        },
        "id": "PQIXf7XgHHxi",
        "outputId": "bc985e78-bfed-4c85-83d1-1c36999f6de2"
      },
      "source": [
        "# Menentukan probabilitas hasil prediksi\n",
        "nbtrain.predict_proba(x_test)"
      ],
      "execution_count": 54,
      "outputs": [
        {
          "output_type": "execute_result",
          "data": {
            "text/plain": [
              "array([[9.98283693e-01, 1.71630711e-03],\n",
              "       [9.99490780e-01, 5.09220387e-04],\n",
              "       [1.06043566e-01, 8.93956434e-01],\n",
              "       [7.51073201e-07, 9.99999249e-01],\n",
              "       [2.17735875e-07, 9.99999782e-01],\n",
              "       [9.99988333e-01, 1.16673824e-05],\n",
              "       [9.99944142e-01, 5.58575824e-05],\n",
              "       [2.20071384e-07, 9.99999780e-01],\n",
              "       [9.98834072e-01, 1.16592817e-03],\n",
              "       [9.85494503e-01, 1.45054973e-02],\n",
              "       [9.90737939e-01, 9.26206059e-03],\n",
              "       [1.27716640e-10, 1.00000000e+00],\n",
              "       [7.68599614e-05, 9.99923140e-01],\n",
              "       [6.96873156e-01, 3.03126844e-01],\n",
              "       [9.69898114e-01, 3.01018864e-02],\n",
              "       [9.84969060e-01, 1.50309397e-02],\n",
              "       [6.67350428e-01, 3.32649572e-01],\n",
              "       [9.99805775e-01, 1.94224846e-04],\n",
              "       [1.35214733e-08, 9.99999986e-01]])"
            ]
          },
          "metadata": {},
          "execution_count": 54
        }
      ]
    },
    {
      "cell_type": "code",
      "metadata": {
        "colab": {
          "base_uri": "https://localhost:8080/"
        },
        "id": "8fB8QNkZHVtb",
        "outputId": "8c99b7c4-8821-4528-d888-de3eebd40e75"
      },
      "source": [
        "# Import confusion matrix model\n",
        "from sklearn.metrics import confusion_matrix\n",
        "confusion_matrix(y_test, y_pred)"
      ],
      "execution_count": 55,
      "outputs": [
        {
          "output_type": "execute_result",
          "data": {
            "text/plain": [
              "array([[10,  0],\n",
              "       [ 2,  7]])"
            ]
          },
          "metadata": {},
          "execution_count": 55
        }
      ]
    },
    {
      "cell_type": "code",
      "metadata": {
        "id": "SnAvfRiNHznA",
        "colab": {
          "base_uri": "https://localhost:8080/",
          "height": 143
        },
        "outputId": "7c805735-2efc-416c-8f40-b3f83f4963b2"
      },
      "source": [
        "# Merapikan hasil confusion matrix\n",
        "y_actual1 = pd.Series([1, 1, 2, 2, 2, 1, 1, 2, 1, 1, 2, 2, 2, 1, 2, 1, 1, 1, 2], name=\"actual\")\n",
        "y_pred1 = pd.Series([1, 1, 2, 2, 2, 1, 1, 2, 1, 1, 1, 2, 2, 1, 1, 1, 1, 1, 2], name=\"prediction\")\n",
        "df_confusion = pd.crosstab(y_actual1, y_pred1)\n",
        "df_confusion"
      ],
      "execution_count": 56,
      "outputs": [
        {
          "output_type": "execute_result",
          "data": {
            "text/html": [
              "<div>\n",
              "<style scoped>\n",
              "    .dataframe tbody tr th:only-of-type {\n",
              "        vertical-align: middle;\n",
              "    }\n",
              "\n",
              "    .dataframe tbody tr th {\n",
              "        vertical-align: top;\n",
              "    }\n",
              "\n",
              "    .dataframe thead th {\n",
              "        text-align: right;\n",
              "    }\n",
              "</style>\n",
              "<table border=\"1\" class=\"dataframe\">\n",
              "  <thead>\n",
              "    <tr style=\"text-align: right;\">\n",
              "      <th>prediction</th>\n",
              "      <th>1</th>\n",
              "      <th>2</th>\n",
              "    </tr>\n",
              "    <tr>\n",
              "      <th>actual</th>\n",
              "      <th></th>\n",
              "      <th></th>\n",
              "    </tr>\n",
              "  </thead>\n",
              "  <tbody>\n",
              "    <tr>\n",
              "      <th>1</th>\n",
              "      <td>10</td>\n",
              "      <td>0</td>\n",
              "    </tr>\n",
              "    <tr>\n",
              "      <th>2</th>\n",
              "      <td>2</td>\n",
              "      <td>7</td>\n",
              "    </tr>\n",
              "  </tbody>\n",
              "</table>\n",
              "</div>"
            ],
            "text/plain": [
              "prediction   1  2\n",
              "actual           \n",
              "1           10  0\n",
              "2            2  7"
            ]
          },
          "metadata": {},
          "execution_count": 56
        }
      ]
    },
    {
      "cell_type": "code",
      "metadata": {
        "colab": {
          "base_uri": "https://localhost:8080/"
        },
        "id": "M8Ucdh-eNetl",
        "outputId": "35eba5af-e9a7-45ff-8cc5-55602f725f0e"
      },
      "source": [
        "# Menghitung nilai akurasi klasifikasi naive bayes\n",
        "from sklearn.metrics import classification_report\n",
        "print(classification_report(y_test, y_pred))"
      ],
      "execution_count": 57,
      "outputs": [
        {
          "output_type": "stream",
          "name": "stdout",
          "text": [
            "              precision    recall  f1-score   support\n",
            "\n",
            "           1       0.83      1.00      0.91        10\n",
            "           2       1.00      0.78      0.88         9\n",
            "\n",
            "    accuracy                           0.89        19\n",
            "   macro avg       0.92      0.89      0.89        19\n",
            "weighted avg       0.91      0.89      0.89        19\n",
            "\n"
          ]
        }
      ]
    }
  ]
}